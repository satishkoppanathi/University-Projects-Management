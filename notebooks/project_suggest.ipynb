{
 "cells": [
  {
   "cell_type": "markdown",
   "id": "477ecc0d",
   "metadata": {},
   "source": [
    "# Step 1: Import packages"
   ]
  },
  {
   "cell_type": "code",
   "execution_count": 1,
   "id": "e0aeb93a",
   "metadata": {},
   "outputs": [],
   "source": [
    "import pandas as pd # type: ignore\n",
    "from sklearn.model_selection import train_test_split # type: ignore\n",
    "from sklearn.ensemble import RandomForestClassifier # type: ignore\n",
    "from sklearn.preprocessing import StandardScaler, OneHotEncoder # type: ignore\n",
    "from sklearn.compose import ColumnTransformer # type: ignore\n",
    "from sklearn.pipeline import Pipeline # type: ignore\n",
    "from sklearn.metrics import accuracy_score # type: ignore"
   ]
  },
  {
   "cell_type": "markdown",
   "id": "b5490ddd",
   "metadata": {},
   "source": [
    "# Step 2: Load the dataset and preprocessing"
   ]
  },
  {
   "cell_type": "code",
   "execution_count": 2,
   "id": "fcc7fa67",
   "metadata": {},
   "outputs": [
    {
     "data": {
      "text/html": [
       "<div>\n",
       "<style scoped>\n",
       "    .dataframe tbody tr th:only-of-type {\n",
       "        vertical-align: middle;\n",
       "    }\n",
       "\n",
       "    .dataframe tbody tr th {\n",
       "        vertical-align: top;\n",
       "    }\n",
       "\n",
       "    .dataframe thead th {\n",
       "        text-align: right;\n",
       "    }\n",
       "</style>\n",
       "<table border=\"1\" class=\"dataframe\">\n",
       "  <thead>\n",
       "    <tr style=\"text-align: right;\">\n",
       "      <th></th>\n",
       "      <th>project_name</th>\n",
       "      <th>domain</th>\n",
       "      <th>difficulty</th>\n",
       "      <th>required_skills</th>\n",
       "      <th>estimated_time</th>\n",
       "      <th>popularity</th>\n",
       "      <th>tags</th>\n",
       "    </tr>\n",
       "  </thead>\n",
       "  <tbody>\n",
       "    <tr>\n",
       "      <th>0</th>\n",
       "      <td>Chatbot</td>\n",
       "      <td>Web Development</td>\n",
       "      <td>Advanced</td>\n",
       "      <td>HTML, CSS, Flask</td>\n",
       "      <td>29</td>\n",
       "      <td>7</td>\n",
       "      <td>blog, platform</td>\n",
       "    </tr>\n",
       "    <tr>\n",
       "      <th>1</th>\n",
       "      <td>Blog Platform</td>\n",
       "      <td>Web Development</td>\n",
       "      <td>Advanced</td>\n",
       "      <td>React, Django</td>\n",
       "      <td>40</td>\n",
       "      <td>6</td>\n",
       "      <td>blog, platform</td>\n",
       "    </tr>\n",
       "    <tr>\n",
       "      <th>2</th>\n",
       "      <td>Weather App</td>\n",
       "      <td>Data Science</td>\n",
       "      <td>Advanced</td>\n",
       "      <td>HTML, CSS, Flask</td>\n",
       "      <td>5</td>\n",
       "      <td>2</td>\n",
       "      <td>weather, app</td>\n",
       "    </tr>\n",
       "    <tr>\n",
       "      <th>3</th>\n",
       "      <td>Crypto Tracker</td>\n",
       "      <td>Mobile App Development</td>\n",
       "      <td>Beginner</td>\n",
       "      <td>SQL, PostgreSQL</td>\n",
       "      <td>6</td>\n",
       "      <td>9</td>\n",
       "      <td>weather, app</td>\n",
       "    </tr>\n",
       "    <tr>\n",
       "      <th>4</th>\n",
       "      <td>Blog Platform</td>\n",
       "      <td>Data Science</td>\n",
       "      <td>Beginner</td>\n",
       "      <td>Java, Android Studio</td>\n",
       "      <td>16</td>\n",
       "      <td>2</td>\n",
       "      <td>crypto, tracker</td>\n",
       "    </tr>\n",
       "    <tr>\n",
       "      <th>...</th>\n",
       "      <td>...</td>\n",
       "      <td>...</td>\n",
       "      <td>...</td>\n",
       "      <td>...</td>\n",
       "      <td>...</td>\n",
       "      <td>...</td>\n",
       "      <td>...</td>\n",
       "    </tr>\n",
       "    <tr>\n",
       "      <th>395</th>\n",
       "      <td>Weather App</td>\n",
       "      <td>AI/ML</td>\n",
       "      <td>Intermediate</td>\n",
       "      <td>HTML, CSS, Flask</td>\n",
       "      <td>36</td>\n",
       "      <td>7</td>\n",
       "      <td>portfolio, web</td>\n",
       "    </tr>\n",
       "    <tr>\n",
       "      <th>396</th>\n",
       "      <td>Stock Predictor</td>\n",
       "      <td>Cybersecurity</td>\n",
       "      <td>Advanced</td>\n",
       "      <td>HTML, CSS, Flask</td>\n",
       "      <td>18</td>\n",
       "      <td>10</td>\n",
       "      <td>recipe, finder</td>\n",
       "    </tr>\n",
       "    <tr>\n",
       "      <th>397</th>\n",
       "      <td>E-commerce Website</td>\n",
       "      <td>Web Development</td>\n",
       "      <td>Beginner</td>\n",
       "      <td>TensorFlow, Keras</td>\n",
       "      <td>29</td>\n",
       "      <td>1</td>\n",
       "      <td>blog, platform</td>\n",
       "    </tr>\n",
       "    <tr>\n",
       "      <th>398</th>\n",
       "      <td>To-Do App</td>\n",
       "      <td>AI/ML</td>\n",
       "      <td>Intermediate</td>\n",
       "      <td>Python, NLP, Flask</td>\n",
       "      <td>17</td>\n",
       "      <td>6</td>\n",
       "      <td>mobile, to-do</td>\n",
       "    </tr>\n",
       "    <tr>\n",
       "      <th>399</th>\n",
       "      <td>E-commerce Website</td>\n",
       "      <td>Cybersecurity</td>\n",
       "      <td>Advanced</td>\n",
       "      <td>JavaScript, Node.js, Express</td>\n",
       "      <td>27</td>\n",
       "      <td>1</td>\n",
       "      <td>blog, platform</td>\n",
       "    </tr>\n",
       "  </tbody>\n",
       "</table>\n",
       "<p>400 rows × 7 columns</p>\n",
       "</div>"
      ],
      "text/plain": [
       "           project_name                  domain    difficulty  \\\n",
       "0               Chatbot         Web Development      Advanced   \n",
       "1         Blog Platform         Web Development      Advanced   \n",
       "2           Weather App            Data Science      Advanced   \n",
       "3        Crypto Tracker  Mobile App Development      Beginner   \n",
       "4         Blog Platform            Data Science      Beginner   \n",
       "..                  ...                     ...           ...   \n",
       "395         Weather App                   AI/ML  Intermediate   \n",
       "396     Stock Predictor           Cybersecurity      Advanced   \n",
       "397  E-commerce Website         Web Development      Beginner   \n",
       "398           To-Do App                   AI/ML  Intermediate   \n",
       "399  E-commerce Website           Cybersecurity      Advanced   \n",
       "\n",
       "                  required_skills  estimated_time  popularity             tags  \n",
       "0                HTML, CSS, Flask              29           7   blog, platform  \n",
       "1                   React, Django              40           6   blog, platform  \n",
       "2                HTML, CSS, Flask               5           2     weather, app  \n",
       "3                 SQL, PostgreSQL               6           9     weather, app  \n",
       "4            Java, Android Studio              16           2  crypto, tracker  \n",
       "..                            ...             ...         ...              ...  \n",
       "395              HTML, CSS, Flask              36           7   portfolio, web  \n",
       "396              HTML, CSS, Flask              18          10   recipe, finder  \n",
       "397             TensorFlow, Keras              29           1   blog, platform  \n",
       "398            Python, NLP, Flask              17           6    mobile, to-do  \n",
       "399  JavaScript, Node.js, Express              27           1   blog, platform  \n",
       "\n",
       "[400 rows x 7 columns]"
      ]
     },
     "execution_count": 2,
     "metadata": {},
     "output_type": "execute_result"
    }
   ],
   "source": [
    "df = pd.read_csv('project_recommendation_dataset.csv')\n",
    "df"
   ]
  },
  {
   "cell_type": "code",
   "execution_count": 3,
   "id": "ac3f3b20",
   "metadata": {},
   "outputs": [
    {
     "data": {
      "text/html": [
       "<div>\n",
       "<style scoped>\n",
       "    .dataframe tbody tr th:only-of-type {\n",
       "        vertical-align: middle;\n",
       "    }\n",
       "\n",
       "    .dataframe tbody tr th {\n",
       "        vertical-align: top;\n",
       "    }\n",
       "\n",
       "    .dataframe thead th {\n",
       "        text-align: right;\n",
       "    }\n",
       "</style>\n",
       "<table border=\"1\" class=\"dataframe\">\n",
       "  <thead>\n",
       "    <tr style=\"text-align: right;\">\n",
       "      <th></th>\n",
       "      <th>project_name</th>\n",
       "      <th>domain</th>\n",
       "      <th>difficulty</th>\n",
       "      <th>required_skills</th>\n",
       "      <th>estimated_time</th>\n",
       "    </tr>\n",
       "  </thead>\n",
       "  <tbody>\n",
       "    <tr>\n",
       "      <th>0</th>\n",
       "      <td>Chatbot</td>\n",
       "      <td>Web Development</td>\n",
       "      <td>Advanced</td>\n",
       "      <td>HTML, CSS, Flask</td>\n",
       "      <td>29</td>\n",
       "    </tr>\n",
       "    <tr>\n",
       "      <th>1</th>\n",
       "      <td>Blog Platform</td>\n",
       "      <td>Web Development</td>\n",
       "      <td>Advanced</td>\n",
       "      <td>React, Django</td>\n",
       "      <td>40</td>\n",
       "    </tr>\n",
       "    <tr>\n",
       "      <th>2</th>\n",
       "      <td>Weather App</td>\n",
       "      <td>Data Science</td>\n",
       "      <td>Advanced</td>\n",
       "      <td>HTML, CSS, Flask</td>\n",
       "      <td>5</td>\n",
       "    </tr>\n",
       "    <tr>\n",
       "      <th>3</th>\n",
       "      <td>Crypto Tracker</td>\n",
       "      <td>Mobile App Development</td>\n",
       "      <td>Beginner</td>\n",
       "      <td>SQL, PostgreSQL</td>\n",
       "      <td>6</td>\n",
       "    </tr>\n",
       "    <tr>\n",
       "      <th>4</th>\n",
       "      <td>Blog Platform</td>\n",
       "      <td>Data Science</td>\n",
       "      <td>Beginner</td>\n",
       "      <td>Java, Android Studio</td>\n",
       "      <td>16</td>\n",
       "    </tr>\n",
       "    <tr>\n",
       "      <th>...</th>\n",
       "      <td>...</td>\n",
       "      <td>...</td>\n",
       "      <td>...</td>\n",
       "      <td>...</td>\n",
       "      <td>...</td>\n",
       "    </tr>\n",
       "    <tr>\n",
       "      <th>395</th>\n",
       "      <td>Weather App</td>\n",
       "      <td>AI/ML</td>\n",
       "      <td>Intermediate</td>\n",
       "      <td>HTML, CSS, Flask</td>\n",
       "      <td>36</td>\n",
       "    </tr>\n",
       "    <tr>\n",
       "      <th>396</th>\n",
       "      <td>Stock Predictor</td>\n",
       "      <td>Cybersecurity</td>\n",
       "      <td>Advanced</td>\n",
       "      <td>HTML, CSS, Flask</td>\n",
       "      <td>18</td>\n",
       "    </tr>\n",
       "    <tr>\n",
       "      <th>397</th>\n",
       "      <td>E-commerce Website</td>\n",
       "      <td>Web Development</td>\n",
       "      <td>Beginner</td>\n",
       "      <td>TensorFlow, Keras</td>\n",
       "      <td>29</td>\n",
       "    </tr>\n",
       "    <tr>\n",
       "      <th>398</th>\n",
       "      <td>To-Do App</td>\n",
       "      <td>AI/ML</td>\n",
       "      <td>Intermediate</td>\n",
       "      <td>Python, NLP, Flask</td>\n",
       "      <td>17</td>\n",
       "    </tr>\n",
       "    <tr>\n",
       "      <th>399</th>\n",
       "      <td>E-commerce Website</td>\n",
       "      <td>Cybersecurity</td>\n",
       "      <td>Advanced</td>\n",
       "      <td>JavaScript, Node.js, Express</td>\n",
       "      <td>27</td>\n",
       "    </tr>\n",
       "  </tbody>\n",
       "</table>\n",
       "<p>400 rows × 5 columns</p>\n",
       "</div>"
      ],
      "text/plain": [
       "           project_name                  domain    difficulty  \\\n",
       "0               Chatbot         Web Development      Advanced   \n",
       "1         Blog Platform         Web Development      Advanced   \n",
       "2           Weather App            Data Science      Advanced   \n",
       "3        Crypto Tracker  Mobile App Development      Beginner   \n",
       "4         Blog Platform            Data Science      Beginner   \n",
       "..                  ...                     ...           ...   \n",
       "395         Weather App                   AI/ML  Intermediate   \n",
       "396     Stock Predictor           Cybersecurity      Advanced   \n",
       "397  E-commerce Website         Web Development      Beginner   \n",
       "398           To-Do App                   AI/ML  Intermediate   \n",
       "399  E-commerce Website           Cybersecurity      Advanced   \n",
       "\n",
       "                  required_skills  estimated_time  \n",
       "0                HTML, CSS, Flask              29  \n",
       "1                   React, Django              40  \n",
       "2                HTML, CSS, Flask               5  \n",
       "3                 SQL, PostgreSQL               6  \n",
       "4            Java, Android Studio              16  \n",
       "..                            ...             ...  \n",
       "395              HTML, CSS, Flask              36  \n",
       "396              HTML, CSS, Flask              18  \n",
       "397             TensorFlow, Keras              29  \n",
       "398            Python, NLP, Flask              17  \n",
       "399  JavaScript, Node.js, Express              27  \n",
       "\n",
       "[400 rows x 5 columns]"
      ]
     },
     "execution_count": 3,
     "metadata": {},
     "output_type": "execute_result"
    }
   ],
   "source": [
    "df = df.drop('tags', axis=1)\n",
    "df = df.drop('popularity', axis=1)\n",
    "df"
   ]
  },
  {
   "cell_type": "code",
   "execution_count": 4,
   "id": "80d9ef9c",
   "metadata": {},
   "outputs": [
    {
     "data": {
      "text/plain": [
       "project_name       0\n",
       "domain             0\n",
       "difficulty         0\n",
       "required_skills    0\n",
       "estimated_time     0\n",
       "dtype: int64"
      ]
     },
     "execution_count": 4,
     "metadata": {},
     "output_type": "execute_result"
    }
   ],
   "source": [
    "df.isnull().sum()"
   ]
  },
  {
   "cell_type": "code",
   "execution_count": 5,
   "id": "bca9e054",
   "metadata": {},
   "outputs": [
    {
     "data": {
      "text/plain": [
       "2000"
      ]
     },
     "execution_count": 5,
     "metadata": {},
     "output_type": "execute_result"
    }
   ],
   "source": [
    "df.size"
   ]
  },
  {
   "cell_type": "code",
   "execution_count": 6,
   "id": "a82aea97",
   "metadata": {},
   "outputs": [
    {
     "data": {
      "text/plain": [
       "(400, 5)"
      ]
     },
     "execution_count": 6,
     "metadata": {},
     "output_type": "execute_result"
    }
   ],
   "source": [
    "df.shape"
   ]
  },
  {
   "cell_type": "code",
   "execution_count": 7,
   "id": "675df1cd",
   "metadata": {},
   "outputs": [
    {
     "data": {
      "text/plain": [
       "Index(['project_name', 'domain', 'difficulty', 'required_skills',\n",
       "       'estimated_time'],\n",
       "      dtype='object')"
      ]
     },
     "execution_count": 7,
     "metadata": {},
     "output_type": "execute_result"
    }
   ],
   "source": [
    "df.columns"
   ]
  },
  {
   "cell_type": "code",
   "execution_count": 8,
   "id": "717efe89",
   "metadata": {},
   "outputs": [
    {
     "data": {
      "text/plain": [
       "array(['Chatbot', 'Blog Platform', 'Weather App', 'Crypto Tracker',\n",
       "       'Stock Predictor', 'Recipe Finder', 'Social Media App',\n",
       "       'Web Portfolio', 'To-Do App', 'E-commerce Website'], dtype=object)"
      ]
     },
     "execution_count": 8,
     "metadata": {},
     "output_type": "execute_result"
    }
   ],
   "source": [
    "df['project_name'].unique()"
   ]
  },
  {
   "cell_type": "code",
   "execution_count": 9,
   "id": "c4926f5e",
   "metadata": {},
   "outputs": [
    {
     "data": {
      "text/plain": [
       "project_name       object\n",
       "domain             object\n",
       "difficulty         object\n",
       "required_skills    object\n",
       "estimated_time      int64\n",
       "dtype: object"
      ]
     },
     "execution_count": 9,
     "metadata": {},
     "output_type": "execute_result"
    }
   ],
   "source": [
    "df.dtypes"
   ]
  },
  {
   "cell_type": "code",
   "execution_count": 10,
   "id": "7613c9bd",
   "metadata": {},
   "outputs": [
    {
     "data": {
      "text/plain": [
       "E-commerce Website    54\n",
       "Weather App           45\n",
       "Crypto Tracker        40\n",
       "Blog Platform         39\n",
       "Web Portfolio         39\n",
       "Recipe Finder         38\n",
       "Social Media App      38\n",
       "Stock Predictor       37\n",
       "To-Do App             37\n",
       "Chatbot               33\n",
       "Name: project_name, dtype: int64"
      ]
     },
     "execution_count": 10,
     "metadata": {},
     "output_type": "execute_result"
    }
   ],
   "source": [
    "df['project_name'].value_counts()"
   ]
  },
  {
   "cell_type": "code",
   "execution_count": 11,
   "id": "1876b133",
   "metadata": {},
   "outputs": [],
   "source": [
    "features=df[['domain', 'difficulty', 'required_skills','estimated_time']]\n",
    "target=df['project_name']"
   ]
  },
  {
   "cell_type": "markdown",
   "id": "6fa61349",
   "metadata": {},
   "source": [
    "# 3. Split the data into training and testing sets"
   ]
  },
  {
   "cell_type": "code",
   "execution_count": 12,
   "id": "b1d50f5e",
   "metadata": {},
   "outputs": [],
   "source": [
    "X_train, X_test, y_train, y_test = train_test_split(features, target, test_size=0.2, random_state=42)"
   ]
  },
  {
   "cell_type": "markdown",
   "id": "2dffb74d",
   "metadata": {},
   "source": [
    "# 4. Define preprocessing for numeric and categorical data"
   ]
  },
  {
   "cell_type": "code",
   "execution_count": 13,
   "id": "90762831",
   "metadata": {},
   "outputs": [],
   "source": [
    "numeric_features = ['estimated_time']\n",
    "categorical_features = ['domain', 'difficulty', 'required_skills']"
   ]
  },
  {
   "cell_type": "markdown",
   "id": "342677c7",
   "metadata": {},
   "source": [
    "# 5. Create the preprocessing pipeline"
   ]
  },
  {
   "cell_type": "code",
   "execution_count": 14,
   "id": "953a1f53",
   "metadata": {},
   "outputs": [],
   "source": [
    "preprocessor = ColumnTransformer(\n",
    "    transformers=[\n",
    "        ('num', StandardScaler(), numeric_features),  # Apply StandardScaler to numeric features\n",
    "        ('cat', OneHotEncoder(handle_unknown='ignore'), categorical_features)  # Apply OneHotEncoder to categorical features\n",
    "    ])"
   ]
  },
  {
   "cell_type": "markdown",
   "id": "470c52c2",
   "metadata": {},
   "source": [
    "# 6. Create the ipeline with preprocessing and RandomForestClassifier"
   ]
  },
  {
   "cell_type": "code",
   "execution_count": 15,
   "id": "96268ad9",
   "metadata": {},
   "outputs": [],
   "source": [
    "pipeline = Pipeline([\n",
    "    ('preprocessor', preprocessor),\n",
    "    ('classifier', RandomForestClassifier(n_estimators=100, random_state=42))\n",
    "])"
   ]
  },
  {
   "cell_type": "markdown",
   "id": "096d7375",
   "metadata": {},
   "source": [
    "# 7. Train the pipeline (Ensure X_train is a DataFrame)\n"
   ]
  },
  {
   "cell_type": "code",
   "execution_count": 16,
   "id": "05bc3671",
   "metadata": {},
   "outputs": [
    {
     "data": {
      "text/html": [
       "<style>#sk-container-id-1 {color: black;background-color: white;}#sk-container-id-1 pre{padding: 0;}#sk-container-id-1 div.sk-toggleable {background-color: white;}#sk-container-id-1 label.sk-toggleable__label {cursor: pointer;display: block;width: 100%;margin-bottom: 0;padding: 0.3em;box-sizing: border-box;text-align: center;}#sk-container-id-1 label.sk-toggleable__label-arrow:before {content: \"▸\";float: left;margin-right: 0.25em;color: #696969;}#sk-container-id-1 label.sk-toggleable__label-arrow:hover:before {color: black;}#sk-container-id-1 div.sk-estimator:hover label.sk-toggleable__label-arrow:before {color: black;}#sk-container-id-1 div.sk-toggleable__content {max-height: 0;max-width: 0;overflow: hidden;text-align: left;background-color: #f0f8ff;}#sk-container-id-1 div.sk-toggleable__content pre {margin: 0.2em;color: black;border-radius: 0.25em;background-color: #f0f8ff;}#sk-container-id-1 input.sk-toggleable__control:checked~div.sk-toggleable__content {max-height: 200px;max-width: 100%;overflow: auto;}#sk-container-id-1 input.sk-toggleable__control:checked~label.sk-toggleable__label-arrow:before {content: \"▾\";}#sk-container-id-1 div.sk-estimator input.sk-toggleable__control:checked~label.sk-toggleable__label {background-color: #d4ebff;}#sk-container-id-1 div.sk-label input.sk-toggleable__control:checked~label.sk-toggleable__label {background-color: #d4ebff;}#sk-container-id-1 input.sk-hidden--visually {border: 0;clip: rect(1px 1px 1px 1px);clip: rect(1px, 1px, 1px, 1px);height: 1px;margin: -1px;overflow: hidden;padding: 0;position: absolute;width: 1px;}#sk-container-id-1 div.sk-estimator {font-family: monospace;background-color: #f0f8ff;border: 1px dotted black;border-radius: 0.25em;box-sizing: border-box;margin-bottom: 0.5em;}#sk-container-id-1 div.sk-estimator:hover {background-color: #d4ebff;}#sk-container-id-1 div.sk-parallel-item::after {content: \"\";width: 100%;border-bottom: 1px solid gray;flex-grow: 1;}#sk-container-id-1 div.sk-label:hover label.sk-toggleable__label {background-color: #d4ebff;}#sk-container-id-1 div.sk-serial::before {content: \"\";position: absolute;border-left: 1px solid gray;box-sizing: border-box;top: 0;bottom: 0;left: 50%;z-index: 0;}#sk-container-id-1 div.sk-serial {display: flex;flex-direction: column;align-items: center;background-color: white;padding-right: 0.2em;padding-left: 0.2em;position: relative;}#sk-container-id-1 div.sk-item {position: relative;z-index: 1;}#sk-container-id-1 div.sk-parallel {display: flex;align-items: stretch;justify-content: center;background-color: white;position: relative;}#sk-container-id-1 div.sk-item::before, #sk-container-id-1 div.sk-parallel-item::before {content: \"\";position: absolute;border-left: 1px solid gray;box-sizing: border-box;top: 0;bottom: 0;left: 50%;z-index: -1;}#sk-container-id-1 div.sk-parallel-item {display: flex;flex-direction: column;z-index: 1;position: relative;background-color: white;}#sk-container-id-1 div.sk-parallel-item:first-child::after {align-self: flex-end;width: 50%;}#sk-container-id-1 div.sk-parallel-item:last-child::after {align-self: flex-start;width: 50%;}#sk-container-id-1 div.sk-parallel-item:only-child::after {width: 0;}#sk-container-id-1 div.sk-dashed-wrapped {border: 1px dashed gray;margin: 0 0.4em 0.5em 0.4em;box-sizing: border-box;padding-bottom: 0.4em;background-color: white;}#sk-container-id-1 div.sk-label label {font-family: monospace;font-weight: bold;display: inline-block;line-height: 1.2em;}#sk-container-id-1 div.sk-label-container {text-align: center;}#sk-container-id-1 div.sk-container {/* jupyter's `normalize.less` sets `[hidden] { display: none; }` but bootstrap.min.css set `[hidden] { display: none !important; }` so we also need the `!important` here to be able to override the default hidden behavior on the sphinx rendered scikit-learn.org. See: https://github.com/scikit-learn/scikit-learn/issues/21755 */display: inline-block !important;position: relative;}#sk-container-id-1 div.sk-text-repr-fallback {display: none;}</style><div id=\"sk-container-id-1\" class=\"sk-top-container\"><div class=\"sk-text-repr-fallback\"><pre>Pipeline(steps=[(&#x27;preprocessor&#x27;,\n",
       "                 ColumnTransformer(transformers=[(&#x27;num&#x27;, StandardScaler(),\n",
       "                                                  [&#x27;estimated_time&#x27;]),\n",
       "                                                 (&#x27;cat&#x27;,\n",
       "                                                  OneHotEncoder(handle_unknown=&#x27;ignore&#x27;),\n",
       "                                                  [&#x27;domain&#x27;, &#x27;difficulty&#x27;,\n",
       "                                                   &#x27;required_skills&#x27;])])),\n",
       "                (&#x27;classifier&#x27;, RandomForestClassifier(random_state=42))])</pre><b>In a Jupyter environment, please rerun this cell to show the HTML representation or trust the notebook. <br />On GitHub, the HTML representation is unable to render, please try loading this page with nbviewer.org.</b></div><div class=\"sk-container\" hidden><div class=\"sk-item sk-dashed-wrapped\"><div class=\"sk-label-container\"><div class=\"sk-label sk-toggleable\"><input class=\"sk-toggleable__control sk-hidden--visually\" id=\"sk-estimator-id-1\" type=\"checkbox\" ><label for=\"sk-estimator-id-1\" class=\"sk-toggleable__label sk-toggleable__label-arrow\">Pipeline</label><div class=\"sk-toggleable__content\"><pre>Pipeline(steps=[(&#x27;preprocessor&#x27;,\n",
       "                 ColumnTransformer(transformers=[(&#x27;num&#x27;, StandardScaler(),\n",
       "                                                  [&#x27;estimated_time&#x27;]),\n",
       "                                                 (&#x27;cat&#x27;,\n",
       "                                                  OneHotEncoder(handle_unknown=&#x27;ignore&#x27;),\n",
       "                                                  [&#x27;domain&#x27;, &#x27;difficulty&#x27;,\n",
       "                                                   &#x27;required_skills&#x27;])])),\n",
       "                (&#x27;classifier&#x27;, RandomForestClassifier(random_state=42))])</pre></div></div></div><div class=\"sk-serial\"><div class=\"sk-item sk-dashed-wrapped\"><div class=\"sk-label-container\"><div class=\"sk-label sk-toggleable\"><input class=\"sk-toggleable__control sk-hidden--visually\" id=\"sk-estimator-id-2\" type=\"checkbox\" ><label for=\"sk-estimator-id-2\" class=\"sk-toggleable__label sk-toggleable__label-arrow\">preprocessor: ColumnTransformer</label><div class=\"sk-toggleable__content\"><pre>ColumnTransformer(transformers=[(&#x27;num&#x27;, StandardScaler(), [&#x27;estimated_time&#x27;]),\n",
       "                                (&#x27;cat&#x27;, OneHotEncoder(handle_unknown=&#x27;ignore&#x27;),\n",
       "                                 [&#x27;domain&#x27;, &#x27;difficulty&#x27;, &#x27;required_skills&#x27;])])</pre></div></div></div><div class=\"sk-parallel\"><div class=\"sk-parallel-item\"><div class=\"sk-item\"><div class=\"sk-label-container\"><div class=\"sk-label sk-toggleable\"><input class=\"sk-toggleable__control sk-hidden--visually\" id=\"sk-estimator-id-3\" type=\"checkbox\" ><label for=\"sk-estimator-id-3\" class=\"sk-toggleable__label sk-toggleable__label-arrow\">num</label><div class=\"sk-toggleable__content\"><pre>[&#x27;estimated_time&#x27;]</pre></div></div></div><div class=\"sk-serial\"><div class=\"sk-item\"><div class=\"sk-estimator sk-toggleable\"><input class=\"sk-toggleable__control sk-hidden--visually\" id=\"sk-estimator-id-4\" type=\"checkbox\" ><label for=\"sk-estimator-id-4\" class=\"sk-toggleable__label sk-toggleable__label-arrow\">StandardScaler</label><div class=\"sk-toggleable__content\"><pre>StandardScaler()</pre></div></div></div></div></div></div><div class=\"sk-parallel-item\"><div class=\"sk-item\"><div class=\"sk-label-container\"><div class=\"sk-label sk-toggleable\"><input class=\"sk-toggleable__control sk-hidden--visually\" id=\"sk-estimator-id-5\" type=\"checkbox\" ><label for=\"sk-estimator-id-5\" class=\"sk-toggleable__label sk-toggleable__label-arrow\">cat</label><div class=\"sk-toggleable__content\"><pre>[&#x27;domain&#x27;, &#x27;difficulty&#x27;, &#x27;required_skills&#x27;]</pre></div></div></div><div class=\"sk-serial\"><div class=\"sk-item\"><div class=\"sk-estimator sk-toggleable\"><input class=\"sk-toggleable__control sk-hidden--visually\" id=\"sk-estimator-id-6\" type=\"checkbox\" ><label for=\"sk-estimator-id-6\" class=\"sk-toggleable__label sk-toggleable__label-arrow\">OneHotEncoder</label><div class=\"sk-toggleable__content\"><pre>OneHotEncoder(handle_unknown=&#x27;ignore&#x27;)</pre></div></div></div></div></div></div></div></div><div class=\"sk-item\"><div class=\"sk-estimator sk-toggleable\"><input class=\"sk-toggleable__control sk-hidden--visually\" id=\"sk-estimator-id-7\" type=\"checkbox\" ><label for=\"sk-estimator-id-7\" class=\"sk-toggleable__label sk-toggleable__label-arrow\">RandomForestClassifier</label><div class=\"sk-toggleable__content\"><pre>RandomForestClassifier(random_state=42)</pre></div></div></div></div></div></div></div>"
      ],
      "text/plain": [
       "Pipeline(steps=[('preprocessor',\n",
       "                 ColumnTransformer(transformers=[('num', StandardScaler(),\n",
       "                                                  ['estimated_time']),\n",
       "                                                 ('cat',\n",
       "                                                  OneHotEncoder(handle_unknown='ignore'),\n",
       "                                                  ['domain', 'difficulty',\n",
       "                                                   'required_skills'])])),\n",
       "                ('classifier', RandomForestClassifier(random_state=42))])"
      ]
     },
     "execution_count": 16,
     "metadata": {},
     "output_type": "execute_result"
    }
   ],
   "source": [
    "pipeline.fit(X_train, y_train)"
   ]
  },
  {
   "cell_type": "markdown",
   "id": "43d40541",
   "metadata": {},
   "source": [
    "# 8. Make predictions on the test data\n"
   ]
  },
  {
   "cell_type": "code",
   "execution_count": 17,
   "id": "6d1e8937",
   "metadata": {},
   "outputs": [
    {
     "data": {
      "text/plain": [
       "array(['To-Do App', 'Weather App', 'Web Portfolio', 'Social Media App',\n",
       "       'Social Media App', 'Recipe Finder', 'Web Portfolio',\n",
       "       'Blog Platform', 'Weather App', 'Social Media App',\n",
       "       'Crypto Tracker', 'Weather App', 'Crypto Tracker', 'Blog Platform',\n",
       "       'Blog Platform', 'Weather App', 'E-commerce Website', 'Chatbot',\n",
       "       'To-Do App', 'Chatbot', 'Crypto Tracker', 'Crypto Tracker',\n",
       "       'To-Do App', 'Stock Predictor', 'Stock Predictor', 'Blog Platform',\n",
       "       'Crypto Tracker', 'Weather App', 'To-Do App', 'Weather App',\n",
       "       'Social Media App', 'To-Do App', 'Chatbot', 'Stock Predictor',\n",
       "       'Crypto Tracker', 'Web Portfolio', 'Stock Predictor',\n",
       "       'Stock Predictor', 'Blog Platform', 'Social Media App', 'Chatbot',\n",
       "       'Chatbot', 'Blog Platform', 'Weather App', 'To-Do App',\n",
       "       'E-commerce Website', 'To-Do App', 'Recipe Finder',\n",
       "       'Stock Predictor', 'Social Media App', 'Weather App',\n",
       "       'Social Media App', 'Chatbot', 'To-Do App', 'Blog Platform',\n",
       "       'Social Media App', 'To-Do App', 'E-commerce Website',\n",
       "       'Weather App', 'Stock Predictor', 'Chatbot', 'Web Portfolio',\n",
       "       'Stock Predictor', 'Weather App', 'Crypto Tracker',\n",
       "       'Crypto Tracker', 'Social Media App', 'Social Media App',\n",
       "       'Blog Platform', 'Blog Platform', 'Recipe Finder', 'Web Portfolio',\n",
       "       'Web Portfolio', 'Blog Platform', 'Social Media App',\n",
       "       'Crypto Tracker', 'Stock Predictor', 'Web Portfolio',\n",
       "       'Stock Predictor', 'Web Portfolio'], dtype=object)"
      ]
     },
     "execution_count": 17,
     "metadata": {},
     "output_type": "execute_result"
    }
   ],
   "source": [
    "y_pred = pipeline.predict(X_test)\n",
    "y_pred"
   ]
  },
  {
   "cell_type": "markdown",
   "id": "85777708",
   "metadata": {},
   "source": [
    "# 9. Evaluate accuracy"
   ]
  },
  {
   "cell_type": "code",
   "execution_count": 29,
   "id": "de799c3c",
   "metadata": {},
   "outputs": [
    {
     "name": "stdout",
     "output_type": "stream",
     "text": [
      "Accuracy: 8.75%\n"
     ]
    }
   ],
   "source": [
    "accuracy = accuracy_score(y_test, y_pred)\n",
    "print(f\"Accuracy: {accuracy * 100:.2f}%\")"
   ]
  },
  {
   "cell_type": "markdown",
   "id": "8b3e5efc",
   "metadata": {},
   "source": [
    "# Prediction sample"
   ]
  },
  {
   "cell_type": "code",
   "execution_count": 19,
   "id": "fc00397d",
   "metadata": {},
   "outputs": [],
   "source": [
    "new_data = pd.DataFrame({\n",
    "    'domain': ['Web Development'],    \n",
    "    'difficulty': ['Beginner'],           # Difficulty level\n",
    "    'required_skills': ['Python, Machine Learning'],  # Required skills\n",
    "    'estimated_time': [30]                    # Estimated time in hours\n",
    "})"
   ]
  },
  {
   "cell_type": "code",
   "execution_count": 20,
   "id": "c550ddfb",
   "metadata": {},
   "outputs": [
    {
     "name": "stdout",
     "output_type": "stream",
     "text": [
      "Predicted : Web Portfolio\n"
     ]
    }
   ],
   "source": [
    "predicted_project = pipeline.predict(new_data)\n",
    "print(f\"Predicted : {predicted_project[0]}\")"
   ]
  },
  {
   "cell_type": "code",
   "execution_count": null,
   "id": "d80e391e",
   "metadata": {},
   "outputs": [],
   "source": [
    "# from sklearn.tree import DecisionTreeClassifier\n"
   ]
  },
  {
   "cell_type": "code",
   "execution_count": 22,
   "id": "b7cdcff2",
   "metadata": {},
   "outputs": [],
   "source": [
    "from joblib import dump # type: ignore"
   ]
  },
  {
   "cell_type": "code",
   "execution_count": 23,
   "id": "960e2baa",
   "metadata": {},
   "outputs": [
    {
     "data": {
      "text/plain": [
       "['./../savedModels/projectSuggest.joblib']"
      ]
     },
     "execution_count": 23,
     "metadata": {},
     "output_type": "execute_result"
    }
   ],
   "source": [
    "dump(pipeline,'./../savedModels/projectSuggest.joblib')"
   ]
  }
 ],
 "metadata": {
  "kernelspec": {
   "display_name": "Python 3 (ipykernel)",
   "language": "python",
   "name": "python3"
  },
  "language_info": {
   "codemirror_mode": {
    "name": "ipython",
    "version": 3
   },
   "file_extension": ".py",
   "mimetype": "text/x-python",
   "name": "python",
   "nbconvert_exporter": "python",
   "pygments_lexer": "ipython3",
   "version": "3.11.4"
  }
 },
 "nbformat": 4,
 "nbformat_minor": 5
}
